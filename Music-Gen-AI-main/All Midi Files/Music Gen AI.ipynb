{
 "cells": [
  {
   "cell_type": "code",
   "execution_count": 2,
   "id": "5d09324c",
   "metadata": {},
   "outputs": [],
   "source": [
    "import torch\n",
    "from torch import tensor\n",
    "import torch.nn as nn\n",
    "import torch.optim as optim\n",
    "import tensorflow as tf\n",
    "import torch.nn.functional as F\n",
    "import math"
   ]
  },
  {
   "cell_type": "code",
   "execution_count": 3,
   "id": "dddf4e2e",
   "metadata": {},
   "outputs": [],
   "source": [
    "device = torch.device(\"cuda:0\" if torch.cuda.is_available() else \"cpu\")"
   ]
  },
  {
   "cell_type": "code",
   "execution_count": null,
   "id": "9c027e41",
   "metadata": {},
   "outputs": [],
   "source": [
    "import numpy as np\n",
    "from music21 import *\n",
    "from collections import Counter\n",
    "\n",
    "def get_sequences(notes_array,timesteps=32,future_steps=8):\n",
    "\n",
    "    notes_ = [element for note_ in notes_array for element in note_]\n",
    "    freq = dict(Counter(notes_))\n",
    "    frequent_notes = [note_ for note_, count in freq.items() if count>=50]\n",
    "    \n",
    "    \n",
    "    new_music=[]\n",
    "\n",
    "    for notes in notes_array:\n",
    "        temp=[]\n",
    "        for note_ in notes:\n",
    "            if note_ in frequent_notes:\n",
    "                temp.append(note_)            \n",
    "        new_music.append(temp)\n",
    "        \n",
    "    new_music = np.array(new_music,dtype=object)\n",
    "\n",
    "\n",
    "    no_of_timesteps = timesteps\n",
    "    x = []\n",
    "    y = []\n",
    "    for note_ in new_music:\n",
    "        for i in range(0, len(note_) - (no_of_timesteps+future_steps), 1): \n",
    "            #preparing input and output sequences\n",
    "            input_ = note_[i:i + no_of_timesteps]\n",
    "            output = note_[i+1+no_of_timesteps:i+1+no_of_timesteps+future_steps]\n",
    "            \n",
    "            x.append(input_)\n",
    "            y.append(output)\n",
    "            \n",
    "    x=np.array(x)\n",
    "    y=np.array(y)\n",
    "\n",
    "    #preparing input sequence\n",
    "    unique_notes = list(set(x.ravel()))\n",
    "    note_to_int = dict((note_, number) for number, note_ in enumerate(unique_notes))\n",
    "    x_seq=[]\n",
    "    for i in x:\n",
    "        temp=[]\n",
    "        for j in i:\n",
    "            #assigning unique integer to every note\n",
    "            temp.append(note_to_int[j])\n",
    "        x_seq.append(temp)\n",
    "        \n",
    "    x_seq = np.array(x_seq)\n",
    "\n",
    "    y_seq=[]\n",
    "    for i in y:\n",
    "        temp=[]\n",
    "        for j in i:\n",
    "            #assigning unique integer to every note\n",
    "            temp.append(note_to_int[j])\n",
    "        y_seq.append(temp)\n",
    "        \n",
    "    y_seq = np.array(y_seq)\n",
    "\n",
    "\n",
    "    return x_seq,y_seq,unique_notes,note_to_int"
   ]
  }
 ],
 "metadata": {
  "kernelspec": {
   "display_name": "Python 3 (ipykernel)",
   "language": "python",
   "name": "python3"
  },
  "language_info": {
   "codemirror_mode": {
    "name": "ipython",
    "version": 3
   },
   "file_extension": ".py",
   "mimetype": "text/x-python",
   "name": "python",
   "nbconvert_exporter": "python",
   "pygments_lexer": "ipython3",
   "version": "3.10.9"
  }
 },
 "nbformat": 4,
 "nbformat_minor": 5
}
